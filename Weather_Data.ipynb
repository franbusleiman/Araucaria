{
  "nbformat": 4,
  "nbformat_minor": 0,
  "metadata": {
    "colab": {
      "provenance": [],
      "authorship_tag": "ABX9TyPO7J4aXLtL5w4QZooZs/gb",
      "include_colab_link": true
    },
    "kernelspec": {
      "name": "python3",
      "display_name": "Python 3"
    },
    "language_info": {
      "name": "python"
    }
  },
  "cells": [
    {
      "cell_type": "markdown",
      "metadata": {
        "id": "view-in-github",
        "colab_type": "text"
      },
      "source": [
        "<a href=\"https://colab.research.google.com/github/franbusleiman/Araucaria/blob/main/Weather_Data.ipynb\" target=\"_parent\"><img src=\"https://colab.research.google.com/assets/colab-badge.svg\" alt=\"Open In Colab\"/></a>"
      ]
    },
    {
      "cell_type": "code",
      "source": [
        "!pip install openmeteo-requests\n",
        "!pip install requests-cache retry-requests numpy pandas"
      ],
      "metadata": {
        "colab": {
          "base_uri": "https://localhost:8080/"
        },
        "id": "k5N5CJ_CCNMU",
        "outputId": "26aa1f91-37d5-48df-e73f-e34e09dc6393"
      },
      "execution_count": 5,
      "outputs": [
        {
          "output_type": "stream",
          "name": "stdout",
          "text": [
            "Collecting openmeteo-requests\n",
            "  Downloading openmeteo_requests-1.2.0-py3-none-any.whl (5.5 kB)\n",
            "Collecting openmeteo-sdk>=1.4.0 (from openmeteo-requests)\n",
            "  Downloading openmeteo_sdk-1.11.3-py3-none-any.whl (12 kB)\n",
            "Requirement already satisfied: requests in /usr/local/lib/python3.10/dist-packages (from openmeteo-requests) (2.31.0)\n",
            "Requirement already satisfied: flatbuffers>=24.0.0 in /usr/local/lib/python3.10/dist-packages (from openmeteo-sdk>=1.4.0->openmeteo-requests) (24.3.7)\n",
            "Requirement already satisfied: charset-normalizer<4,>=2 in /usr/local/lib/python3.10/dist-packages (from requests->openmeteo-requests) (3.3.2)\n",
            "Requirement already satisfied: idna<4,>=2.5 in /usr/local/lib/python3.10/dist-packages (from requests->openmeteo-requests) (3.6)\n",
            "Requirement already satisfied: urllib3<3,>=1.21.1 in /usr/local/lib/python3.10/dist-packages (from requests->openmeteo-requests) (2.0.7)\n",
            "Requirement already satisfied: certifi>=2017.4.17 in /usr/local/lib/python3.10/dist-packages (from requests->openmeteo-requests) (2024.2.2)\n",
            "Installing collected packages: openmeteo-sdk, openmeteo-requests\n",
            "Successfully installed openmeteo-requests-1.2.0 openmeteo-sdk-1.11.3\n",
            "Collecting requests-cache\n",
            "  Downloading requests_cache-1.2.0-py3-none-any.whl (61 kB)\n",
            "\u001b[2K     \u001b[90m━━━━━━━━━━━━━━━━━━━━━━━━━━━━━━━━━━━━━━━━\u001b[0m \u001b[32m61.4/61.4 kB\u001b[0m \u001b[31m1.1 MB/s\u001b[0m eta \u001b[36m0:00:00\u001b[0m\n",
            "\u001b[?25hCollecting retry-requests\n",
            "  Downloading retry_requests-2.0.0-py3-none-any.whl (15 kB)\n",
            "Requirement already satisfied: numpy in /usr/local/lib/python3.10/dist-packages (1.25.2)\n",
            "Requirement already satisfied: pandas in /usr/local/lib/python3.10/dist-packages (1.5.3)\n",
            "Requirement already satisfied: attrs>=21.2 in /usr/local/lib/python3.10/dist-packages (from requests-cache) (23.2.0)\n",
            "Collecting cattrs>=22.2 (from requests-cache)\n",
            "  Downloading cattrs-23.2.3-py3-none-any.whl (57 kB)\n",
            "\u001b[2K     \u001b[90m━━━━━━━━━━━━━━━━━━━━━━━━━━━━━━━━━━━━━━━━\u001b[0m \u001b[32m57.5/57.5 kB\u001b[0m \u001b[31m5.7 MB/s\u001b[0m eta \u001b[36m0:00:00\u001b[0m\n",
            "\u001b[?25hRequirement already satisfied: platformdirs>=2.5 in /usr/local/lib/python3.10/dist-packages (from requests-cache) (4.2.0)\n",
            "Requirement already satisfied: requests>=2.22 in /usr/local/lib/python3.10/dist-packages (from requests-cache) (2.31.0)\n",
            "Collecting url-normalize>=1.4 (from requests-cache)\n",
            "  Downloading url_normalize-1.4.3-py2.py3-none-any.whl (6.8 kB)\n",
            "Requirement already satisfied: urllib3>=1.25.5 in /usr/local/lib/python3.10/dist-packages (from requests-cache) (2.0.7)\n",
            "Requirement already satisfied: python-dateutil>=2.8.1 in /usr/local/lib/python3.10/dist-packages (from pandas) (2.8.2)\n",
            "Requirement already satisfied: pytz>=2020.1 in /usr/local/lib/python3.10/dist-packages (from pandas) (2023.4)\n",
            "Requirement already satisfied: exceptiongroup>=1.1.1 in /usr/local/lib/python3.10/dist-packages (from cattrs>=22.2->requests-cache) (1.2.0)\n",
            "Requirement already satisfied: typing-extensions!=4.6.3,>=4.1.0 in /usr/local/lib/python3.10/dist-packages (from cattrs>=22.2->requests-cache) (4.10.0)\n",
            "Requirement already satisfied: six>=1.5 in /usr/local/lib/python3.10/dist-packages (from python-dateutil>=2.8.1->pandas) (1.16.0)\n",
            "Requirement already satisfied: charset-normalizer<4,>=2 in /usr/local/lib/python3.10/dist-packages (from requests>=2.22->requests-cache) (3.3.2)\n",
            "Requirement already satisfied: idna<4,>=2.5 in /usr/local/lib/python3.10/dist-packages (from requests>=2.22->requests-cache) (3.6)\n",
            "Requirement already satisfied: certifi>=2017.4.17 in /usr/local/lib/python3.10/dist-packages (from requests>=2.22->requests-cache) (2024.2.2)\n",
            "Installing collected packages: url-normalize, cattrs, retry-requests, requests-cache\n",
            "Successfully installed cattrs-23.2.3 requests-cache-1.2.0 retry-requests-2.0.0 url-normalize-1.4.3\n"
          ]
        }
      ]
    },
    {
      "cell_type": "code",
      "execution_count": 14,
      "metadata": {
        "id": "PhO8l6nhBjsq"
      },
      "outputs": [],
      "source": [
        "import openmeteo_requests\n",
        "\n",
        "import requests_cache\n",
        "import pandas as pd\n",
        "from retry_requests import retry\n",
        "\n",
        "# Setup the Open-Meteo API client with cache and retry on error\n",
        "cache_session = requests_cache.CachedSession('.cache', expire_after = -1)\n",
        "retry_session = retry(cache_session, retries = 5, backoff_factor = 0.2)\n",
        "openmeteo = openmeteo_requests.Client(session = retry_session)\n",
        "\n",
        "# Make sure all required weather variables are listed here\n",
        "# The order of variables in hourly or daily is important to assign them correctly below"
      ]
    },
    {
      "cell_type": "code",
      "source": [
        "def request_weather(latitude, longitude):\n",
        "    url = \"https://customer-archive-api.open-meteo.com/v1/archive\"\n",
        "    params = {\n",
        "\t    \"latitude\": 52.52,\n",
        "\t    \"longitude\": 13.41,\n",
        "\t    \"start_date\": \"2023-01-01\",\n",
        "\t    \"end_date\": \"2023-12-31\",\n",
        "\t    \"hourly\": [\"temperature_2m\", \"relative_humidity_2m\", \"precipitation\"],\n",
        "\t    \"apikey\": \"sGnjvxrP98MufeQJ\"\n",
        "      }\n",
        "    responses = openmeteo.weather_api(url, params=params)\n",
        "\n",
        "    # Process first location. Add a for-loop for multiple locations or weather models\n",
        "    response = responses[0]\n",
        "    print(f\"Coordinates {response.Latitude()}°N {response.Longitude()}°E\")\n",
        "    print(f\"Elevation {response.Elevation()} m asl\")\n",
        "    print(f\"Timezone {response.Timezone()} {response.TimezoneAbbreviation()}\")\n",
        "    print(f\"Timezone difference to GMT+0 {response.UtcOffsetSeconds()} s\")\n",
        "\n",
        "    # Process hourly data. The order of variables needs to be the same as requested.\n",
        "    hourly = response.Hourly()\n",
        "    hourly_temperature_2m = hourly.Variables(0).ValuesAsNumpy()\n",
        "    hourly_relative_humidity_2m = hourly.Variables(1).ValuesAsNumpy()\n",
        "    hourly_precipation = hourly.Variables(2).ValuesAsNumpy()\n",
        "\n",
        "    hourly_data = {\"date\": pd.date_range(\n",
        "\t    start = pd.to_datetime(hourly.Time(), unit = \"s\", utc = True),\n",
        "\t    end = pd.to_datetime(hourly.TimeEnd(), unit = \"s\", utc = True),\n",
        "\t    freq = pd.Timedelta(seconds = hourly.Interval()),\n",
        "\t    inclusive = \"left\"\n",
        "    )}\n",
        "    hourly_data[\"temperature_2m\"] = hourly_temperature_2m\n",
        "    hourly_data[\"relative_humidity_2m\"] = hourly_relative_humidity_2m\n",
        "    hourly_data[\"precipation\"] = hourly_precipation\n",
        "\n",
        "\n",
        "    hourly_dataframe = pd.DataFrame(data = hourly_data)\n",
        "    return hourly_dataframe;\n",
        "\n"
      ],
      "metadata": {
        "id": "s_cgeH-HQYTy"
      },
      "execution_count": 15,
      "outputs": []
    },
    {
      "cell_type": "code",
      "source": [
        "latitude= 52.52\n",
        "longitude= 13.41\n",
        "data = request_weather(latitude, longitude)\n",
        "print(data)\n"
      ],
      "metadata": {
        "colab": {
          "base_uri": "https://localhost:8080/"
        },
        "id": "_cJ1oMnEQ1FO",
        "outputId": "a2582479-f779-4557-8edd-4180e2693f29"
      },
      "execution_count": 16,
      "outputs": [
        {
          "output_type": "stream",
          "name": "stdout",
          "text": [
            "Coordinates 52.5483283996582°N 13.407821655273438°E\n",
            "Elevation 38.0 m asl\n",
            "Timezone None None\n",
            "Timezone difference to GMT+0 0 s\n",
            "                          date  temperature_2m  relative_humidity_2m  \\\n",
            "0    2023-01-01 00:00:00+00:00         15.3085             58.668945   \n",
            "1    2023-01-01 01:00:00+00:00         15.7085             54.692139   \n",
            "2    2023-01-01 02:00:00+00:00         15.7585             52.490711   \n",
            "3    2023-01-01 03:00:00+00:00         15.8585             50.558018   \n",
            "4    2023-01-01 04:00:00+00:00         15.8085             49.503017   \n",
            "...                        ...             ...                   ...   \n",
            "8755 2023-12-31 19:00:00+00:00          6.3085             83.442131   \n",
            "8756 2023-12-31 20:00:00+00:00          6.6585             84.960327   \n",
            "8757 2023-12-31 21:00:00+00:00          6.0585             87.312302   \n",
            "8758 2023-12-31 22:00:00+00:00          5.2085             88.159035   \n",
            "8759 2023-12-31 23:00:00+00:00          5.1585             86.918320   \n",
            "\n",
            "      precipation  \n",
            "0             0.0  \n",
            "1             0.0  \n",
            "2             0.0  \n",
            "3             0.0  \n",
            "4             0.0  \n",
            "...           ...  \n",
            "8755          0.1  \n",
            "8756          0.0  \n",
            "8757          0.0  \n",
            "8758          0.0  \n",
            "8759          0.0  \n",
            "\n",
            "[8760 rows x 4 columns]\n"
          ]
        }
      ]
    }
  ]
}